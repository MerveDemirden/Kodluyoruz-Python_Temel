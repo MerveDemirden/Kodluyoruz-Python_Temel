{
 "cells": [
  {
   "cell_type": "markdown",
   "id": "8f5576ac-c9ae-4ba9-9e3a-49363a8c5938",
   "metadata": {},
   "source": [
    "###  STRING\n"
   ]
  },
  {
   "cell_type": "markdown",
   "id": "3940f514-34b9-4501-8471-6bc97d028964",
   "metadata": {},
   "source": [
    "##### String, karakterlerden oluşan bir dizidir. Elemanları karakterlerdir.\n",
    "##### İki tırnak veya tek tırnak içinde yazılmalıdır.\n",
    "##### Non - scalar veri tiplerinin daha alt parçalara bölünebilen, elemanlar içeren yapılardır. String, non - scalar bir veri tipidir. İçsel yapı olarak karakterlerden oluşur. \n",
    "##### Stringler immutable (elemanlarının değerleri değiştirilemez.) veri tipidir.\n"
   ]
  },
  {
   "cell_type": "code",
   "execution_count": 1,
   "id": "780378e2-f935-4dd8-abaa-fe048a56c21a",
   "metadata": {},
   "outputs": [
    {
     "data": {
      "text/plain": [
       "5"
      ]
     },
     "execution_count": 1,
     "metadata": {},
     "output_type": "execute_result"
    }
   ],
   "source": [
    "5"
   ]
  },
  {
   "cell_type": "code",
   "execution_count": 2,
   "id": "52333016-a37c-4aaf-b738-314d998dad73",
   "metadata": {},
   "outputs": [
    {
     "data": {
      "text/plain": [
       "'5'"
      ]
     },
     "execution_count": 2,
     "metadata": {},
     "output_type": "execute_result"
    }
   ],
   "source": [
    "\"5\""
   ]
  },
  {
   "cell_type": "code",
   "execution_count": 3,
   "id": "8ca6b4c0-8cc0-439d-b34e-c752b3135001",
   "metadata": {},
   "outputs": [
    {
     "data": {
      "text/plain": [
       "'5'"
      ]
     },
     "execution_count": 3,
     "metadata": {},
     "output_type": "execute_result"
    }
   ],
   "source": [
    "'5'"
   ]
  },
  {
   "cell_type": "code",
   "execution_count": 4,
   "id": "ff4eae85-441a-4070-b214-6b0b65de8def",
   "metadata": {},
   "outputs": [
    {
     "data": {
      "text/plain": [
       "'a'"
      ]
     },
     "execution_count": 4,
     "metadata": {},
     "output_type": "execute_result"
    }
   ],
   "source": [
    "\"a\""
   ]
  },
  {
   "cell_type": "code",
   "execution_count": 5,
   "id": "3b103e06-5ded-4842-ad2e-525eeba837d9",
   "metadata": {},
   "outputs": [
    {
     "data": {
      "text/plain": [
       "'a'"
      ]
     },
     "execution_count": 5,
     "metadata": {},
     "output_type": "execute_result"
    }
   ],
   "source": [
    "'a'"
   ]
  },
  {
   "cell_type": "code",
   "execution_count": 6,
   "id": "e5c57241-9c0a-42e2-9e0f-d4a9ca66b3c4",
   "metadata": {},
   "outputs": [
    {
     "data": {
      "text/plain": [
       "'5 + 10'"
      ]
     },
     "execution_count": 6,
     "metadata": {},
     "output_type": "execute_result"
    }
   ],
   "source": [
    "\"5 + 10\""
   ]
  },
  {
   "cell_type": "code",
   "execution_count": 7,
   "id": "f00f27b7-7841-49b9-a052-04ace0e206ef",
   "metadata": {},
   "outputs": [
    {
     "data": {
      "text/plain": [
       "str"
      ]
     },
     "execution_count": 7,
     "metadata": {},
     "output_type": "execute_result"
    }
   ],
   "source": [
    "type(\"5\")"
   ]
  },
  {
   "cell_type": "code",
   "execution_count": 8,
   "id": "e5b142c8-6c3c-4440-9e5b-bf7d2b9e0d6d",
   "metadata": {},
   "outputs": [
    {
     "data": {
      "text/plain": [
       "str"
      ]
     },
     "execution_count": 8,
     "metadata": {},
     "output_type": "execute_result"
    }
   ],
   "source": [
    "type(\"5 + 10\")"
   ]
  },
  {
   "cell_type": "code",
   "execution_count": 9,
   "id": "6032926e-7ff1-4102-b43d-ed93734b5f0c",
   "metadata": {},
   "outputs": [
    {
     "data": {
      "text/plain": [
       "\"Bugün Kadıköy'e gidiyorum\""
      ]
     },
     "execution_count": 9,
     "metadata": {},
     "output_type": "execute_result"
    }
   ],
   "source": [
    "\"Bugün Kadıköy'e gidiyorum\""
   ]
  },
  {
   "cell_type": "code",
   "execution_count": 10,
   "id": "886e9b74-40ae-4471-bf11-28628b6b9a57",
   "metadata": {},
   "outputs": [
    {
     "ename": "SyntaxError",
     "evalue": "unterminated string literal (detected at line 1) (1141162360.py, line 1)",
     "output_type": "error",
     "traceback": [
      "\u001b[1;36m  Input \u001b[1;32mIn [10]\u001b[1;36m\u001b[0m\n\u001b[1;33m    'Bugün Kadıköy'e gidiyorum'\u001b[0m\n\u001b[1;37m                              ^\u001b[0m\n\u001b[1;31mSyntaxError\u001b[0m\u001b[1;31m:\u001b[0m unterminated string literal (detected at line 1)\n"
     ]
    }
   ],
   "source": [
    "'Bugün Kadıköy'e gidiyorum'"
   ]
  },
  {
   "cell_type": "code",
   "execution_count": 11,
   "id": "009c9c84-54f7-469f-a1a7-c9121c990af0",
   "metadata": {},
   "outputs": [
    {
     "data": {
      "text/plain": [
       "'Bugün Kadıköy\"e gidiyorum'"
      ]
     },
     "execution_count": 11,
     "metadata": {},
     "output_type": "execute_result"
    }
   ],
   "source": [
    "'Bugün Kadıköy\"e gidiyorum'"
   ]
  },
  {
   "cell_type": "code",
   "execution_count": 12,
   "id": "4c054b6e-5305-47ca-a8b2-d36e1fd55b7b",
   "metadata": {},
   "outputs": [
    {
     "ename": "SyntaxError",
     "evalue": "unterminated string literal (detected at line 1) (1433114582.py, line 1)",
     "output_type": "error",
     "traceback": [
      "\u001b[1;36m  Input \u001b[1;32mIn [12]\u001b[1;36m\u001b[0m\n\u001b[1;33m    \"Bana \"Bugün Kadıköy'e gidiyorum\" dedi\"\u001b[0m\n\u001b[1;37m                        ^\u001b[0m\n\u001b[1;31mSyntaxError\u001b[0m\u001b[1;31m:\u001b[0m unterminated string literal (detected at line 1)\n"
     ]
    }
   ],
   "source": [
    "\n",
    "\"Bana \"Bugün Kadıköy'e gidiyorum\" dedi\""
   ]
  },
  {
   "cell_type": "code",
   "execution_count": 13,
   "id": "e7112b89-2703-49ce-baed-68102a041aab",
   "metadata": {},
   "outputs": [
    {
     "ename": "SyntaxError",
     "evalue": "unterminated string literal (detected at line 1) (2536606251.py, line 1)",
     "output_type": "error",
     "traceback": [
      "\u001b[1;36m  Input \u001b[1;32mIn [13]\u001b[1;36m\u001b[0m\n\u001b[1;33m    'Bana \"Bugün Kadıköy'e gidiyorum\" dedi'\u001b[0m\n\u001b[1;37m                                    ^\u001b[0m\n\u001b[1;31mSyntaxError\u001b[0m\u001b[1;31m:\u001b[0m unterminated string literal (detected at line 1)\n"
     ]
    }
   ],
   "source": [
    "\n",
    "'Bana \"Bugün Kadıköy'e gidiyorum\" dedi'"
   ]
  },
  {
   "cell_type": "markdown",
   "id": "6fc17b2b-976b-4e3b-9b27-d64162a0697a",
   "metadata": {},
   "source": [
    "#### Escape Sequence"
   ]
  },
  {
   "cell_type": "code",
   "execution_count": 14,
   "id": "20700e77-1c3c-4a8a-a68a-67544289e1dd",
   "metadata": {},
   "outputs": [
    {
     "data": {
      "text/plain": [
       "'Bana \"Bugün ne yapıyorsun\" dedi'"
      ]
     },
     "execution_count": 14,
     "metadata": {},
     "output_type": "execute_result"
    }
   ],
   "source": [
    "\"Bana \\\"Bugün ne yapıyorsun\\\" dedi\""
   ]
  },
  {
   "cell_type": "code",
   "execution_count": 16,
   "id": "c9d330b7-3f82-4493-8acd-e9a91e8d2628",
   "metadata": {},
   "outputs": [
    {
     "data": {
      "text/plain": [
       "\"Bugün Kadıköy'e gidiyorum\""
      ]
     },
     "execution_count": 16,
     "metadata": {},
     "output_type": "execute_result"
    }
   ],
   "source": [
    "'Bugün Kadıköy\\'e gidiyorum'"
   ]
  },
  {
   "cell_type": "code",
   "execution_count": 18,
   "id": "7202786b-2a39-43b0-874e-f86acf25a9a1",
   "metadata": {},
   "outputs": [
    {
     "name": "stdout",
     "output_type": "stream",
     "text": [
      "hey\n",
      "nasılsın\n"
     ]
    }
   ],
   "source": [
    "print(\"hey\\nnasılsın\")"
   ]
  },
  {
   "cell_type": "code",
   "execution_count": 19,
   "id": "dbafdf45-29b3-48e2-a619-b0b905d854b7",
   "metadata": {},
   "outputs": [
    {
     "name": "stdout",
     "output_type": "stream",
     "text": [
      "hey\n",
      "   nasılsın\n"
     ]
    }
   ],
   "source": [
    "print(\"hey\\n   nasılsın\")"
   ]
  },
  {
   "cell_type": "code",
   "execution_count": 21,
   "id": "5a01aa38-e3af-4fd3-9081-7bfcfeee760a",
   "metadata": {},
   "outputs": [
    {
     "name": "stdout",
     "output_type": "stream",
     "text": [
      "hey\tnasılsın\n"
     ]
    }
   ],
   "source": [
    "print(\"hey\\tnasılsın\")  ####4 boşluk ekler\n",
    "\n"
   ]
  },
  {
   "cell_type": "code",
   "execution_count": 22,
   "id": "a4056158-539d-4729-a0f3-433569ce416c",
   "metadata": {},
   "outputs": [
    {
     "name": "stdout",
     "output_type": "stream",
     "text": [
      "hmm \\\n"
     ]
    }
   ],
   "source": [
    "print(\"hmm \\\\\")\n"
   ]
  },
  {
   "cell_type": "code",
   "execution_count": 23,
   "id": "40ba848c-33a5-4c33-b397-f9285eab3c55",
   "metadata": {},
   "outputs": [
    {
     "data": {
      "text/plain": [
       "\"Bugün Mecidiyeköy'den Mecidiyeköy'\\\\e 40 dakikada gittim.\""
      ]
     },
     "execution_count": 23,
     "metadata": {},
     "output_type": "execute_result"
    }
   ],
   "source": [
    "\"Bugün Mecidiyeköy\\'den Mecidiyeköy'\\e 40 dakikada gittim.\""
   ]
  }
 ],
 "metadata": {
  "kernelspec": {
   "display_name": "Python 3 (ipykernel)",
   "language": "python",
   "name": "python3"
  },
  "language_info": {
   "codemirror_mode": {
    "name": "ipython",
    "version": 3
   },
   "file_extension": ".py",
   "mimetype": "text/x-python",
   "name": "python",
   "nbconvert_exporter": "python",
   "pygments_lexer": "ipython3",
   "version": "3.10.4"
  }
 },
 "nbformat": 4,
 "nbformat_minor": 5
}
