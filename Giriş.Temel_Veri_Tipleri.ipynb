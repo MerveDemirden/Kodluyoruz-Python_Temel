{
 "cells": [
  {
   "cell_type": "markdown",
   "id": "b8ad565f-fc50-4431-819e-1655abd92355",
   "metadata": {},
   "source": [
    "## TEMEL VERİ TİPLERİ (Basic Data Types)"
   ]
  },
  {
   "cell_type": "markdown",
   "id": "4c3db1af-75d8-4cc0-bfb5-e2624ea2e817",
   "metadata": {
    "tags": []
   },
   "source": [
    "### a) integers (tam sayılar)\n"
   ]
  },
  {
   "cell_type": "code",
   "execution_count": null,
   "id": "89c03a94-6f53-46a8-97f0-dfe38e6f19fa",
   "metadata": {},
   "outputs": [],
   "source": []
  },
  {
   "cell_type": "code",
   "execution_count": 20,
   "id": "8c96970f-c617-4d5b-88ce-90353012e8e6",
   "metadata": {},
   "outputs": [
    {
     "data": {
      "text/plain": [
       "2"
      ]
     },
     "execution_count": 20,
     "metadata": {},
     "output_type": "execute_result"
    }
   ],
   "source": [
    "2"
   ]
  },
  {
   "cell_type": "code",
   "execution_count": 21,
   "id": "854106be-a1a1-436d-a020-ef62cae2118a",
   "metadata": {},
   "outputs": [
    {
     "data": {
      "text/plain": [
       "3"
      ]
     },
     "execution_count": 21,
     "metadata": {},
     "output_type": "execute_result"
    }
   ],
   "source": [
    "3"
   ]
  },
  {
   "cell_type": "code",
   "execution_count": 22,
   "id": "e0da5763-dfaa-4975-9eca-b0617b9fb80e",
   "metadata": {},
   "outputs": [
    {
     "data": {
      "text/plain": [
       "4"
      ]
     },
     "execution_count": 22,
     "metadata": {},
     "output_type": "execute_result"
    }
   ],
   "source": [
    "2 + 2"
   ]
  },
  {
   "cell_type": "code",
   "execution_count": 23,
   "id": "8a1128ec-66bc-489a-96fc-a6a6da1e8f80",
   "metadata": {},
   "outputs": [
    {
     "data": {
      "text/plain": [
       "6"
      ]
     },
     "execution_count": 23,
     "metadata": {},
     "output_type": "execute_result"
    }
   ],
   "source": [
    "8 - 2"
   ]
  },
  {
   "cell_type": "markdown",
   "id": "0596fbf8-286d-4408-a2c3-196b2787fa33",
   "metadata": {},
   "source": [
    "### float (kesirli sayılar)"
   ]
  },
  {
   "cell_type": "code",
   "execution_count": 24,
   "id": "aa8455b8-73e6-48ae-84bf-81c197531dac",
   "metadata": {},
   "outputs": [
    {
     "data": {
      "text/plain": [
       "2.3"
      ]
     },
     "execution_count": 24,
     "metadata": {},
     "output_type": "execute_result"
    }
   ],
   "source": [
    "2.3"
   ]
  },
  {
   "cell_type": "code",
   "execution_count": 25,
   "id": "a3cf12f7-9e93-4de3-a09c-e12c0993418a",
   "metadata": {},
   "outputs": [
    {
     "data": {
      "text/plain": [
       "3.0"
      ]
     },
     "execution_count": 25,
     "metadata": {},
     "output_type": "execute_result"
    }
   ],
   "source": [
    "3.0"
   ]
  },
  {
   "cell_type": "code",
   "execution_count": 26,
   "id": "9a0f637f-dbf0-4042-abe9-80b3f22d9bd0",
   "metadata": {},
   "outputs": [
    {
     "data": {
      "text/plain": [
       "-4.5"
      ]
     },
     "execution_count": 26,
     "metadata": {},
     "output_type": "execute_result"
    }
   ],
   "source": [
    "-4.5"
   ]
  },
  {
   "cell_type": "code",
   "execution_count": 27,
   "id": "73de6f36-9996-4d48-9507-90c85ae4a2da",
   "metadata": {},
   "outputs": [
    {
     "data": {
      "text/plain": [
       "5.699999999999999"
      ]
     },
     "execution_count": 27,
     "metadata": {},
     "output_type": "execute_result"
    }
   ],
   "source": [
    "2.3 + 3.4"
   ]
  },
  {
   "cell_type": "code",
   "execution_count": 28,
   "id": "69d13cff-a7de-4595-8e67-7427d76ef475",
   "metadata": {},
   "outputs": [
    {
     "data": {
      "text/plain": [
       "6.2"
      ]
     },
     "execution_count": 28,
     "metadata": {},
     "output_type": "execute_result"
    }
   ],
   "source": [
    "8.4 - 2.2"
   ]
  },
  {
   "cell_type": "markdown",
   "id": "bd06f499-88c8-4646-a75c-d11c63e7ac73",
   "metadata": {},
   "source": [
    "### boolean"
   ]
  },
  {
   "cell_type": "code",
   "execution_count": 10,
   "id": "075a5701-e99c-4275-b8bf-75100cf21f47",
   "metadata": {},
   "outputs": [
    {
     "data": {
      "text/plain": [
       "False"
      ]
     },
     "execution_count": 10,
     "metadata": {},
     "output_type": "execute_result"
    }
   ],
   "source": [
    "2<1"
   ]
  },
  {
   "cell_type": "code",
   "execution_count": 11,
   "id": "0af6cfe4-9890-400d-9963-6f5bf31bbe16",
   "metadata": {},
   "outputs": [
    {
     "data": {
      "text/plain": [
       "False"
      ]
     },
     "execution_count": 11,
     "metadata": {},
     "output_type": "execute_result"
    }
   ],
   "source": [
    "2>3"
   ]
  },
  {
   "cell_type": "markdown",
   "id": "6ed2ba56-24f7-476e-a54d-97b36d712142",
   "metadata": {},
   "source": [
    "### type"
   ]
  },
  {
   "cell_type": "code",
   "execution_count": 12,
   "id": "793de765-4145-4811-82c4-bfa5c1cc54a3",
   "metadata": {},
   "outputs": [
    {
     "data": {
      "text/plain": [
       "int"
      ]
     },
     "execution_count": 12,
     "metadata": {},
     "output_type": "execute_result"
    }
   ],
   "source": [
    "type(4)"
   ]
  },
  {
   "cell_type": "code",
   "execution_count": 14,
   "id": "84285a01-392f-4261-8614-4bb3da1a4389",
   "metadata": {},
   "outputs": [
    {
     "data": {
      "text/plain": [
       "bool"
      ]
     },
     "execution_count": 14,
     "metadata": {},
     "output_type": "execute_result"
    }
   ],
   "source": [
    "type(True)"
   ]
  },
  {
   "cell_type": "markdown",
   "id": "3b3fe3b5-e4a3-49f2-934a-5f29b67ec671",
   "metadata": {},
   "source": [
    "#### Type Casting"
   ]
  },
  {
   "cell_type": "code",
   "execution_count": 16,
   "id": "9928d9a0-40b9-4b7d-be3f-c6211a5cc187",
   "metadata": {},
   "outputs": [
    {
     "data": {
      "text/plain": [
       "4"
      ]
     },
     "execution_count": 16,
     "metadata": {},
     "output_type": "execute_result"
    }
   ],
   "source": [
    "int(4.2)"
   ]
  },
  {
   "cell_type": "code",
   "execution_count": 18,
   "id": "33c1cfc2-51ea-488b-b5d1-eb7008a50ab9",
   "metadata": {},
   "outputs": [
    {
     "data": {
      "text/plain": [
       "3"
      ]
     },
     "execution_count": 18,
     "metadata": {},
     "output_type": "execute_result"
    }
   ],
   "source": [
    "int(3.8)"
   ]
  },
  {
   "cell_type": "code",
   "execution_count": 19,
   "id": "c3626ffe-624f-40eb-b3c7-347660fc1aec",
   "metadata": {},
   "outputs": [
    {
     "data": {
      "text/plain": [
       "0.0"
      ]
     },
     "execution_count": 19,
     "metadata": {},
     "output_type": "execute_result"
    }
   ],
   "source": [
    "float()"
   ]
  }
 ],
 "metadata": {
  "kernelspec": {
   "display_name": "Python 3 (ipykernel)",
   "language": "python",
   "name": "python3"
  },
  "language_info": {
   "codemirror_mode": {
    "name": "ipython",
    "version": 3
   },
   "file_extension": ".py",
   "mimetype": "text/x-python",
   "name": "python",
   "nbconvert_exporter": "python",
   "pygments_lexer": "ipython3",
   "version": "3.10.4"
  }
 },
 "nbformat": 4,
 "nbformat_minor": 5
}
