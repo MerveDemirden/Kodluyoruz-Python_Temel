{
 "cells": [
  {
   "cell_type": "markdown",
   "id": "6ba896f6-fd91-4770-a55a-b6c686980c31",
   "metadata": {},
   "source": [
    "### STRING'LER ÜZERİNDE OPERATÖRLER"
   ]
  },
  {
   "cell_type": "markdown",
   "id": "646215aa-a7ab-478e-974a-7e1d5829d9fa",
   "metadata": {},
   "source": [
    "##### String'lerde Değer Atama(Variable Assignment)"
   ]
  },
  {
   "cell_type": "code",
   "execution_count": 2,
   "id": "a715bbf5-84b7-4777-ae2b-79c3e0776fa7",
   "metadata": {},
   "outputs": [],
   "source": [
    "    merhaba = \"Merhaba nasılsın bugün?\""
   ]
  },
  {
   "cell_type": "code",
   "execution_count": 3,
   "id": "ebd09667-6dae-4d12-b11a-ad85a75ff3fa",
   "metadata": {},
   "outputs": [
    {
     "data": {
      "text/plain": [
       "'Merhaba nasılsın bugün?'"
      ]
     },
     "execution_count": 3,
     "metadata": {},
     "output_type": "execute_result"
    }
   ],
   "source": [
    "merhaba"
   ]
  },
  {
   "cell_type": "code",
   "execution_count": 4,
   "id": "402c0558-e6c4-4a55-9e45-2e69ef20983d",
   "metadata": {},
   "outputs": [
    {
     "name": "stdout",
     "output_type": "stream",
     "text": [
      "Merhaba nasılsın bugün?\n"
     ]
    }
   ],
   "source": [
    "print(merhaba)"
   ]
  },
  {
   "cell_type": "markdown",
   "id": "7f4c4a23-b71d-46e8-b0b3-a8474f12ac0b",
   "metadata": {},
   "source": [
    "##### String Concatenation"
   ]
  },
  {
   "cell_type": "code",
   "execution_count": 5,
   "id": "232f52bd-ce22-4a9b-babc-f8527ff09dc3",
   "metadata": {},
   "outputs": [
    {
     "data": {
      "text/plain": [
       "'54'"
      ]
     },
     "execution_count": 5,
     "metadata": {},
     "output_type": "execute_result"
    }
   ],
   "source": [
    "\"5\" + \"4\""
   ]
  },
  {
   "cell_type": "code",
   "execution_count": 7,
   "id": "29e4a41e-dba2-4c24-baad-4817d0642d25",
   "metadata": {},
   "outputs": [
    {
     "data": {
      "text/plain": [
       "'heynasılsın?'"
      ]
     },
     "execution_count": 7,
     "metadata": {},
     "output_type": "execute_result"
    }
   ],
   "source": [
    "\"hey\" + \"nasılsın?\""
   ]
  },
  {
   "cell_type": "code",
   "execution_count": 8,
   "id": "32d50f5c-1ec2-4f74-ac18-62fcea9c93c0",
   "metadata": {},
   "outputs": [
    {
     "data": {
      "text/plain": [
       "'hey nasılsın?'"
      ]
     },
     "execution_count": 8,
     "metadata": {},
     "output_type": "execute_result"
    }
   ],
   "source": [
    "\"hey\" + \" \" + \"nasılsın?\""
   ]
  },
  {
   "cell_type": "code",
   "execution_count": 9,
   "id": "2b9d61fa-d8af-4386-899c-5b365be42a3d",
   "metadata": {},
   "outputs": [],
   "source": [
    "mesaj = \"Merhaba\""
   ]
  },
  {
   "cell_type": "code",
   "execution_count": 10,
   "id": "f0da12e5-cb7e-4c63-becc-fc3b6278dbe3",
   "metadata": {},
   "outputs": [],
   "source": [
    "isim = \"Berkay\""
   ]
  },
  {
   "cell_type": "code",
   "execution_count": 11,
   "id": "5e4f085d-e9a7-48c1-9018-47357dcc4ad3",
   "metadata": {},
   "outputs": [
    {
     "data": {
      "text/plain": [
       "'Merhaba Berkay'"
      ]
     },
     "execution_count": 11,
     "metadata": {},
     "output_type": "execute_result"
    }
   ],
   "source": [
    "mesaj + \" \" + isim "
   ]
  },
  {
   "cell_type": "code",
   "execution_count": 12,
   "id": "6171242f-921e-4a2d-be42-1dd9dad288b1",
   "metadata": {},
   "outputs": [],
   "source": [
    "karsilama = mesaj + \" \" + isim"
   ]
  },
  {
   "cell_type": "code",
   "execution_count": 13,
   "id": "167b9f8d-8fe9-4864-8bf8-d2b81f02cecb",
   "metadata": {},
   "outputs": [
    {
     "data": {
      "text/plain": [
       "'Merhaba Berkay'"
      ]
     },
     "execution_count": 13,
     "metadata": {},
     "output_type": "execute_result"
    }
   ],
   "source": [
    "karsilama"
   ]
  },
  {
   "cell_type": "code",
   "execution_count": 14,
   "id": "6463cfd9-2b24-43a7-8613-652bc7b7adcb",
   "metadata": {},
   "outputs": [
    {
     "name": "stdout",
     "output_type": "stream",
     "text": [
      "Merhaba Berkay\n"
     ]
    }
   ],
   "source": [
    "print(karsilama)"
   ]
  },
  {
   "cell_type": "markdown",
   "id": "a3d04a15-d9d1-4482-81f1-1bc43fd7a193",
   "metadata": {},
   "source": [
    "##### Successive Concatenation(Ardışık Birleştirme)\n"
   ]
  },
  {
   "cell_type": "markdown",
   "id": "f1247bb6-838d-478e-ac0f-7bc85b16bab1",
   "metadata": {},
   "source": [
    "##### * operatörü sayı objeleri için çarpım olarak tanımlanmışken, stringler için ard arda birleştirme işlemi yapıyor.\n"
   ]
  },
  {
   "cell_type": "code",
   "execution_count": 2,
   "id": "11338398-573f-4f63-af1a-2222d73cde9a",
   "metadata": {},
   "outputs": [
    {
     "data": {
      "text/plain": [
       "'heyheyheyhey'"
      ]
     },
     "execution_count": 2,
     "metadata": {},
     "output_type": "execute_result"
    }
   ],
   "source": [
    "4 * \"hey\""
   ]
  },
  {
   "cell_type": "code",
   "execution_count": 3,
   "id": "5d643b1d-ecb3-45c5-9518-5863b31d4e16",
   "metadata": {},
   "outputs": [
    {
     "data": {
      "text/plain": [
       "'10000000000'"
      ]
     },
     "execution_count": 3,
     "metadata": {},
     "output_type": "execute_result"
    }
   ],
   "source": [
    "\"1\" + \"0\" * 10\n"
   ]
  }
 ],
 "metadata": {
  "kernelspec": {
   "display_name": "Python 3 (ipykernel)",
   "language": "python",
   "name": "python3"
  },
  "language_info": {
   "codemirror_mode": {
    "name": "ipython",
    "version": 3
   },
   "file_extension": ".py",
   "mimetype": "text/x-python",
   "name": "python",
   "nbconvert_exporter": "python",
   "pygments_lexer": "ipython3",
   "version": "3.10.4"
  }
 },
 "nbformat": 4,
 "nbformat_minor": 5
}
