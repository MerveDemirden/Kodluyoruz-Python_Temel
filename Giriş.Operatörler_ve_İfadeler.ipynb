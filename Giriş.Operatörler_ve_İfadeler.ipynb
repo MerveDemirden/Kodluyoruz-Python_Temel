{
 "cells": [
  {
   "cell_type": "markdown",
   "id": "327a60a0-351a-46e2-9126-b2198dec2d1c",
   "metadata": {},
   "source": [
    "## $\\color{green}{\\text{OPERATÖRLER VE İFADELER(Operator - Expressions)}}$\n",
    "\n"
   ]
  },
  {
   "cell_type": "markdown",
   "id": "7da5cbe1-108d-45fb-83e4-15615c2716e5",
   "metadata": {},
   "source": [
    "#### + operator"
   ]
  },
  {
   "cell_type": "code",
   "execution_count": 3,
   "id": "7b066024-504d-48f1-bf98-385b5fcf5e60",
   "metadata": {},
   "outputs": [
    {
     "data": {
      "text/plain": [
       "4"
      ]
     },
     "execution_count": 3,
     "metadata": {},
     "output_type": "execute_result"
    }
   ],
   "source": [
    "#iki tane integer toplamı integer verir. \n",
    "2 + 2"
   ]
  },
  {
   "cell_type": "code",
   "execution_count": 4,
   "id": "aba6a921-6701-4549-aeac-1dc62ec78178",
   "metadata": {},
   "outputs": [
    {
     "data": {
      "text/plain": [
       "int"
      ]
     },
     "execution_count": 4,
     "metadata": {},
     "output_type": "execute_result"
    }
   ],
   "source": [
    "type(2+2)"
   ]
  },
  {
   "cell_type": "code",
   "execution_count": null,
   "id": "84eb298e-84b1-4d1b-a40a-f61857f4a0aa",
   "metadata": {},
   "outputs": [
    {
     "data": {
      "text/plain": [
       "4.8"
      ]
     },
     "execution_count": 5,
     "metadata": {},
     "output_type": "execute_result"
    }
   ],
   "source": [
    "#iki tane float toplamı float verir. \n",
    "2.3 + 2.5"
   ]
  },
  {
   "cell_type": "code",
   "execution_count": 6,
   "id": "3f292754-a610-452d-a3d2-798b019b069c",
   "metadata": {},
   "outputs": [
    {
     "data": {
      "text/plain": [
       "float"
      ]
     },
     "execution_count": 6,
     "metadata": {},
     "output_type": "execute_result"
    }
   ],
   "source": [
    "type(2.3+2.5)"
   ]
  },
  {
   "cell_type": "markdown",
   "id": "28c2c377-170b-41f0-bad8-7a83e1a12014",
   "metadata": {},
   "source": [
    "##### Eğer objelerden biri bile float ise toplama işleminde expressions'un tipi float olur"
   ]
  },
  {
   "cell_type": "code",
   "execution_count": 7,
   "id": "05fd3e6f-eab5-459c-a75c-6245e2c8a590",
   "metadata": {},
   "outputs": [
    {
     "data": {
      "text/plain": [
       "5.4"
      ]
     },
     "execution_count": 7,
     "metadata": {},
     "output_type": "execute_result"
    }
   ],
   "source": [
    "2.4 + 3"
   ]
  },
  {
   "cell_type": "code",
   "execution_count": 8,
   "id": "908e5517-dc24-4228-b635-b08985afb6aa",
   "metadata": {},
   "outputs": [
    {
     "data": {
      "text/plain": [
       "float"
      ]
     },
     "execution_count": 8,
     "metadata": {},
     "output_type": "execute_result"
    }
   ],
   "source": [
    "type(2.4+3)"
   ]
  },
  {
   "cell_type": "markdown",
   "id": "14cec9c8-af50-4ed3-a290-41b24ceeb61c",
   "metadata": {},
   "source": [
    "#### - operator"
   ]
  },
  {
   "cell_type": "code",
   "execution_count": 9,
   "id": "96dcd621-d52c-4ded-9c32-cf536bc5be8e",
   "metadata": {},
   "outputs": [
    {
     "data": {
      "text/plain": [
       "1"
      ]
     },
     "execution_count": 9,
     "metadata": {},
     "output_type": "execute_result"
    }
   ],
   "source": [
    "#iki tane integer'ın farkı integer verir. \n",
    "3 - 2"
   ]
  },
  {
   "cell_type": "code",
   "execution_count": 10,
   "id": "398870cf-3fcd-4048-b4a7-666f0258b610",
   "metadata": {},
   "outputs": [
    {
     "data": {
      "text/plain": [
       "int"
      ]
     },
     "execution_count": 10,
     "metadata": {},
     "output_type": "execute_result"
    }
   ],
   "source": [
    "type(3-2)"
   ]
  },
  {
   "cell_type": "code",
   "execution_count": 12,
   "id": "e57e9e84-34f8-45b6-9b32-e36b14a29512",
   "metadata": {},
   "outputs": [
    {
     "data": {
      "text/plain": [
       "0.5"
      ]
     },
     "execution_count": 12,
     "metadata": {},
     "output_type": "execute_result"
    }
   ],
   "source": [
    "#iki tane float farkı float verir. \n",
    "2.6 - 2.1"
   ]
  },
  {
   "cell_type": "code",
   "execution_count": 13,
   "id": "88d0933b-4a7d-4929-9079-ce3273063480",
   "metadata": {},
   "outputs": [
    {
     "data": {
      "text/plain": [
       "float"
      ]
     },
     "execution_count": 13,
     "metadata": {},
     "output_type": "execute_result"
    }
   ],
   "source": [
    "type(2.6-2.1)"
   ]
  },
  {
   "cell_type": "markdown",
   "id": "65af8fc6-3b03-4c5b-a5c3-ee417dfd89e0",
   "metadata": {},
   "source": [
    "###### Eğer objelerden biri bile float ise çıkarma işleminde expression'un tipi float olur."
   ]
  },
  {
   "cell_type": "code",
   "execution_count": 14,
   "id": "9dcf79e7-f340-4126-bd8f-58189cb8525d",
   "metadata": {},
   "outputs": [
    {
     "data": {
      "text/plain": [
       "-0.5"
      ]
     },
     "execution_count": 14,
     "metadata": {},
     "output_type": "execute_result"
    }
   ],
   "source": [
    "2.5 - 3"
   ]
  },
  {
   "cell_type": "code",
   "execution_count": null,
   "id": "3808cfa7-47b8-49d6-a18a-267220cd801d",
   "metadata": {},
   "outputs": [
    {
     "data": {
      "text/plain": [
       "float"
      ]
     },
     "execution_count": 15,
     "metadata": {},
     "output_type": "execute_result"
    }
   ],
   "source": [
    "type(2.5-3)"
   ]
  },
  {
   "cell_type": "markdown",
   "id": "e70a3e6e-282b-4b3b-9c3e-8c189acab707",
   "metadata": {},
   "source": [
    "### / operator \n",
    "\n",
    "###### işleme giren objelerin tipi ne olursa olsun cevap float olur. "
   ]
  },
  {
   "cell_type": "code",
   "execution_count": 16,
   "id": "ba0bd7af-d950-4ca6-b0fb-309950688ef7",
   "metadata": {},
   "outputs": [
    {
     "data": {
      "text/plain": [
       "1.5"
      ]
     },
     "execution_count": 16,
     "metadata": {},
     "output_type": "execute_result"
    }
   ],
   "source": [
    "3/2"
   ]
  },
  {
   "cell_type": "code",
   "execution_count": 17,
   "id": "953f6a82-c17a-45b8-8f68-1a15f2728e2a",
   "metadata": {},
   "outputs": [
    {
     "data": {
      "text/plain": [
       "1.1764705882352942"
      ]
     },
     "execution_count": 17,
     "metadata": {},
     "output_type": "execute_result"
    }
   ],
   "source": [
    "4/3.4"
   ]
  },
  {
   "cell_type": "markdown",
   "id": "0f1aa756-7b02-4b9f-ab7d-bce03bcb49d5",
   "metadata": {},
   "source": [
    "#### // operator (int division)\n",
    "\n",
    "###### eğer işleme girenlerden biri bile float ise cevabı float olur"
   ]
  },
  {
   "cell_type": "code",
   "execution_count": 18,
   "id": "26e77635-5421-41c7-bd44-b18d9fbb9a76",
   "metadata": {},
   "outputs": [
    {
     "data": {
      "text/plain": [
       "2"
      ]
     },
     "execution_count": 18,
     "metadata": {},
     "output_type": "execute_result"
    }
   ],
   "source": [
    "4//2"
   ]
  },
  {
   "cell_type": "code",
   "execution_count": 19,
   "id": "7bbb4b8a-166e-4ff6-a903-c09d85bcb7ba",
   "metadata": {},
   "outputs": [
    {
     "data": {
      "text/plain": [
       "1"
      ]
     },
     "execution_count": 19,
     "metadata": {},
     "output_type": "execute_result"
    }
   ],
   "source": [
    "5//3"
   ]
  },
  {
   "cell_type": "markdown",
   "id": "b8fcae2f-ff28-49ac-bc97-a237abe3073d",
   "metadata": {},
   "source": [
    "### % operator (Remainder/kalan)\n",
    "\n",
    "##### eğer kalan float ise cevap float olur yoksa integer olur"
   ]
  },
  {
   "cell_type": "code",
   "execution_count": 21,
   "id": "a36f2c8d-7e3f-480d-8a95-75e14eb6db35",
   "metadata": {},
   "outputs": [
    {
     "data": {
      "text/plain": [
       "1"
      ]
     },
     "execution_count": 21,
     "metadata": {},
     "output_type": "execute_result"
    }
   ],
   "source": [
    "5 % 2"
   ]
  },
  {
   "cell_type": "code",
   "execution_count": 22,
   "id": "72a7351b-3a93-4023-8b3c-dfadb55d9311",
   "metadata": {},
   "outputs": [
    {
     "data": {
      "text/plain": [
       "1"
      ]
     },
     "execution_count": 22,
     "metadata": {},
     "output_type": "execute_result"
    }
   ],
   "source": [
    "10 % 3"
   ]
  },
  {
   "cell_type": "code",
   "execution_count": 23,
   "id": "cd62d4f9-aade-45db-83a1-49c5572beeaa",
   "metadata": {},
   "outputs": [
    {
     "data": {
      "text/plain": [
       "0.5"
      ]
     },
     "execution_count": 23,
     "metadata": {},
     "output_type": "execute_result"
    }
   ],
   "source": [
    "2.5 % 2"
   ]
  },
  {
   "cell_type": "markdown",
   "id": "89cd75fa-0a3e-492b-97f7-a832289a33ee",
   "metadata": {},
   "source": [
    "### ** operator\n",
    "\n",
    "#### üst alma işlemi yapar"
   ]
  },
  {
   "cell_type": "code",
   "execution_count": 24,
   "id": "4de92904-63c2-4372-a984-f4d92ca9c1fc",
   "metadata": {},
   "outputs": [
    {
     "data": {
      "text/plain": [
       "8"
      ]
     },
     "execution_count": 24,
     "metadata": {},
     "output_type": "execute_result"
    }
   ],
   "source": [
    "2 ** 3"
   ]
  },
  {
   "cell_type": "code",
   "execution_count": 25,
   "id": "6a12646d-3033-458e-af34-fbb3cf55e537",
   "metadata": {},
   "outputs": [
    {
     "data": {
      "text/plain": [
       "125"
      ]
     },
     "execution_count": 25,
     "metadata": {},
     "output_type": "execute_result"
    }
   ],
   "source": [
    "5 ** 3"
   ]
  },
  {
   "cell_type": "code",
   "execution_count": 26,
   "id": "cd26780b-02bd-42fe-874e-1f1b0dbcb2ea",
   "metadata": {},
   "outputs": [
    {
     "data": {
      "text/plain": [
       "5.76"
      ]
     },
     "execution_count": 26,
     "metadata": {},
     "output_type": "execute_result"
    }
   ],
   "source": [
    "2.4 ** 2"
   ]
  },
  {
   "cell_type": "markdown",
   "id": "f9bd7678-1038-4961-8329-2061f9f76956",
   "metadata": {},
   "source": [
    "### print()\n",
    "\n",
    "###### Bazen sadece bazı değerleri bastırmak isteriz, bunun için print() metodunu kullanabiliriz. \n",
    "\n"
   ]
  },
  {
   "cell_type": "code",
   "execution_count": 27,
   "id": "39231084-9ee5-4f40-81da-a0a5ac219202",
   "metadata": {},
   "outputs": [
    {
     "name": "stdout",
     "output_type": "stream",
     "text": [
      "3\n"
     ]
    }
   ],
   "source": [
    "print(3)"
   ]
  }
 ],
 "metadata": {
  "kernelspec": {
   "display_name": "Python 3 (ipykernel)",
   "language": "python",
   "name": "python3"
  },
  "language_info": {
   "codemirror_mode": {
    "name": "ipython",
    "version": 3
   },
   "file_extension": ".py",
   "mimetype": "text/x-python",
   "name": "python",
   "nbconvert_exporter": "python",
   "pygments_lexer": "ipython3",
   "version": "3.10.4"
  }
 },
 "nbformat": 4,
 "nbformat_minor": 5
}
