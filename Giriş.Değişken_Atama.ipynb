{
 "cells": [
  {
   "cell_type": "markdown",
   "id": "98092c47-c6d3-470e-b604-24d531819add",
   "metadata": {},
   "source": [
    "## DEĞİŞKEN ATAMA (VARIABLE ASSIGNMENT)\n"
   ]
  },
  {
   "cell_type": "code",
   "execution_count": 9,
   "id": "a3e85b58-5c72-4d08-ad57-911436d8dc4a",
   "metadata": {},
   "outputs": [],
   "source": [
    "a = 2 "
   ]
  },
  {
   "cell_type": "code",
   "execution_count": 10,
   "id": "0cf5d708-70a0-4478-a953-0ed757b17856",
   "metadata": {},
   "outputs": [
    {
     "data": {
      "text/plain": [
       "2"
      ]
     },
     "execution_count": 10,
     "metadata": {},
     "output_type": "execute_result"
    }
   ],
   "source": [
    "a"
   ]
  },
  {
   "cell_type": "code",
   "execution_count": 11,
   "id": "45f215ea-a838-4896-9506-302890a85f43",
   "metadata": {},
   "outputs": [],
   "source": [
    "b = 2 + 1 "
   ]
  },
  {
   "cell_type": "code",
   "execution_count": 12,
   "id": "bfef016a-ba09-422d-a77d-be2b7735cf58",
   "metadata": {},
   "outputs": [
    {
     "data": {
      "text/plain": [
       "3"
      ]
     },
     "execution_count": 12,
     "metadata": {},
     "output_type": "execute_result"
    }
   ],
   "source": [
    "b"
   ]
  },
  {
   "cell_type": "code",
   "execution_count": 13,
   "id": "d3955147-1913-40b9-8e8d-63f935b73c54",
   "metadata": {},
   "outputs": [],
   "source": [
    "a = a + 5"
   ]
  },
  {
   "cell_type": "code",
   "execution_count": 14,
   "id": "9518b1f6-d59d-4da5-873d-20802a9d12e6",
   "metadata": {},
   "outputs": [
    {
     "data": {
      "text/plain": [
       "7"
      ]
     },
     "execution_count": 14,
     "metadata": {},
     "output_type": "execute_result"
    }
   ],
   "source": [
    "a"
   ]
  },
  {
   "cell_type": "code",
   "execution_count": 15,
   "id": "fe49b83f-9c13-4c09-a6bb-2edab6b3db77",
   "metadata": {},
   "outputs": [],
   "source": [
    "limon_fiyat = 10"
   ]
  },
  {
   "cell_type": "code",
   "execution_count": 16,
   "id": "a199ef48-d2fa-4d92-8c6e-579bc258e0e4",
   "metadata": {},
   "outputs": [],
   "source": [
    "s1 = limon_fiyat * 100"
   ]
  },
  {
   "cell_type": "code",
   "execution_count": 17,
   "id": "b9afbd42-73d7-40d0-8971-17829717ab39",
   "metadata": {},
   "outputs": [],
   "source": [
    "s2 = limon_fiyat *70"
   ]
  },
  {
   "cell_type": "code",
   "execution_count": 18,
   "id": "3e251ab4-e038-4b49-89bd-cffc7c81bc6d",
   "metadata": {},
   "outputs": [],
   "source": [
    "s3 = limon_fiyat * 30"
   ]
  },
  {
   "cell_type": "code",
   "execution_count": 20,
   "id": "ba15c75a-09a2-4390-88fd-2492b9eb22cb",
   "metadata": {},
   "outputs": [
    {
     "name": "stdout",
     "output_type": "stream",
     "text": [
      "1000\n"
     ]
    }
   ],
   "source": [
    "print(s1)"
   ]
  },
  {
   "cell_type": "code",
   "execution_count": 21,
   "id": "4d05e67f-ce40-4008-8190-0bb431a46612",
   "metadata": {},
   "outputs": [
    {
     "name": "stdout",
     "output_type": "stream",
     "text": [
      "700\n"
     ]
    }
   ],
   "source": [
    "print(s2)"
   ]
  },
  {
   "cell_type": "code",
   "execution_count": 22,
   "id": "55119e77-b932-4ba9-a64a-25c27dedaec3",
   "metadata": {},
   "outputs": [
    {
     "name": "stdout",
     "output_type": "stream",
     "text": [
      "300\n"
     ]
    }
   ],
   "source": [
    "print(s3)"
   ]
  },
  {
   "cell_type": "code",
   "execution_count": 23,
   "id": "6f6c4d81-83c4-495a-934f-dc5ef42a24d7",
   "metadata": {},
   "outputs": [],
   "source": [
    "s1 = 10 * 100"
   ]
  },
  {
   "cell_type": "code",
   "execution_count": 24,
   "id": "8a65ce7d-3163-4885-9945-ae2a30ec3d7c",
   "metadata": {},
   "outputs": [],
   "source": [
    "s2 = 10 * 70"
   ]
  },
  {
   "cell_type": "code",
   "execution_count": 25,
   "id": "c6254c53-42de-4e9a-95c3-555b8ce4ffd2",
   "metadata": {},
   "outputs": [],
   "source": [
    "s3 = 10 * 30"
   ]
  },
  {
   "cell_type": "code",
   "execution_count": 26,
   "id": "cd7cd5b0-e137-4745-a0b7-fb595522db03",
   "metadata": {},
   "outputs": [
    {
     "name": "stdout",
     "output_type": "stream",
     "text": [
      "1000\n"
     ]
    }
   ],
   "source": [
    "print(s1)"
   ]
  },
  {
   "cell_type": "code",
   "execution_count": 27,
   "id": "e89792b7-f1e2-4dfd-8864-e715f5037ab6",
   "metadata": {},
   "outputs": [
    {
     "name": "stdout",
     "output_type": "stream",
     "text": [
      "700\n"
     ]
    }
   ],
   "source": [
    "print(s2)"
   ]
  },
  {
   "cell_type": "code",
   "execution_count": 28,
   "id": "034b974c-c2c9-44ad-9b9f-b2d8068c45a1",
   "metadata": {},
   "outputs": [
    {
     "name": "stdout",
     "output_type": "stream",
     "text": [
      "300\n"
     ]
    }
   ],
   "source": [
    "print(s3)"
   ]
  }
 ],
 "metadata": {
  "kernelspec": {
   "display_name": "Python 3 (ipykernel)",
   "language": "python",
   "name": "python3"
  },
  "language_info": {
   "codemirror_mode": {
    "name": "ipython",
    "version": 3
   },
   "file_extension": ".py",
   "mimetype": "text/x-python",
   "name": "python",
   "nbconvert_exporter": "python",
   "pygments_lexer": "ipython3",
   "version": "3.10.4"
  }
 },
 "nbformat": 4,
 "nbformat_minor": 5
}
